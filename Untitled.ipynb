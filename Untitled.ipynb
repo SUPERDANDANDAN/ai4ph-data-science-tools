{
 "cells": [
  {
   "cell_type": "code",
   "execution_count": 4,
   "id": "27e06996-0e26-4644-a7b0-c197b0892e9e",
   "metadata": {},
   "outputs": [
    {
     "name": "stdout",
     "output_type": "stream",
     "text": [
      "Hello AI4PH\n"
     ]
    }
   ],
   "source": [
    "print(\"Hello AI4PH\")\n"
   ]
  },
  {
   "cell_type": "code",
   "execution_count": null,
   "id": "471e4cfb-b9a6-421d-a6ea-bfa903efd01a",
   "metadata": {},
   "outputs": [],
   "source": [
    "pip install bs4\n"
   ]
  },
  {
   "cell_type": "code",
   "execution_count": null,
   "id": "72308627-1136-41ab-9645-5ae00752edee",
   "metadata": {},
   "outputs": [],
   "source": [
    "pip install selenium\n",
    "pip install pandas\n",
    "pip install html5lib\n",
    "pip install matplotlib\n",
    "pip install scikit-learn\n",
    "pip install lxml"
   ]
  },
  {
   "cell_type": "code",
   "execution_count": null,
   "id": "12c22b48-7dbf-42fa-9649-22b8de678089",
   "metadata": {},
   "outputs": [],
   "source": []
  }
 ],
 "metadata": {
  "kernelspec": {
   "display_name": "Python 3 (ipykernel)",
   "language": "python",
   "name": "python3"
  },
  "language_info": {
   "codemirror_mode": {
    "name": "ipython",
    "version": 3
   },
   "file_extension": ".py",
   "mimetype": "text/x-python",
   "name": "python",
   "nbconvert_exporter": "python",
   "pygments_lexer": "ipython3",
   "version": "3.11.5"
  }
 },
 "nbformat": 4,
 "nbformat_minor": 5
}
