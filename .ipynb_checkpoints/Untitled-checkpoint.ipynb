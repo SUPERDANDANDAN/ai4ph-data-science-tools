{
 "cells": [
  {
   "cell_type": "code",
   "execution_count": null,
   "id": "27e06996-0e26-4644-a7b0-c197b0892e9e",
   "metadata": {},
   "outputs": [],
   "source": [
    "print(“Hell AI4PH\")\n"
   ]
  }
 ],
 "metadata": {
  "kernelspec": {
   "display_name": "Python 3 (ipykernel)",
   "language": "python",
   "name": "python3"
  },
  "language_info": {
   "codemirror_mode": {
    "name": "ipython",
    "version": 3
   },
   "file_extension": ".py",
   "mimetype": "text/x-python",
   "name": "python",
   "nbconvert_exporter": "python",
   "pygments_lexer": "ipython3",
   "version": "3.11.5"
  }
 },
 "nbformat": 4,
 "nbformat_minor": 5
}
