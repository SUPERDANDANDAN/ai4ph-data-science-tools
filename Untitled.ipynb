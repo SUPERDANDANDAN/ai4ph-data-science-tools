{
 "cells": [
  {
   "cell_type": "code",
   "execution_count": null,
   "id": "27e06996-0e26-4644-a7b0-c197b0892e9e",
   "metadata": {},
   "outputs": [],
   "source": [
    "print(\"Hello AI4PH\")\n"
   ]
  },
  {
   "cell_type": "code",
   "execution_count": null,
   "id": "471e4cfb-b9a6-421d-a6ea-bfa903efd01a",
   "metadata": {},
   "outputs": [],
   "source": [
    "import pandas as pd\n",
    "data = pd.read_csv(\"data.csv\")"
   ]
  },
  {
   "cell_type": "code",
   "execution_count": null,
   "id": "12c22b48-7dbf-42fa-9649-22b8de678089",
   "metadata": {},
   "outputs": [],
   "source": [
    "data.head()"
   ]
  },
  {
   "cell_type": "code",
   "execution_count": null,
   "id": "84a003e5-0336-40f3-a30b-21d8dfa42d64",
   "metadata": {},
   "outputs": [],
   "source": [
    "data.info()"
   ]
  },
  {
   "cell_type": "code",
   "execution_count": null,
   "id": "0ebdbf3a-9bd4-4db7-b040-35fafb7a4b65",
   "metadata": {},
   "outputs": [],
   "source": [
    "data.describe().T"
   ]
  },
  {
   "cell_type": "code",
   "execution_count": null,
   "id": "1e9778ff-6633-41c4-8bb7-5aa5fababd67",
   "metadata": {},
   "outputs": [],
   "source": [
    "len(data)"
   ]
  },
  {
   "cell_type": "code",
   "execution_count": null,
   "id": "b3135803-05a4-4afb-94db-91b1c7734ea2",
   "metadata": {},
   "outputs": [],
   "source": [
    "print(data.isnull().sum())"
   ]
  },
  {
   "cell_type": "code",
   "execution_count": null,
   "id": "a595f4fc-41a4-4c17-8908-3a242e851b40",
   "metadata": {},
   "outputs": [],
   "source": []
  },
  {
   "cell_type": "code",
   "execution_count": null,
   "id": "f4f08966-a7ae-4a4c-b6f4-1f9164b00a33",
   "metadata": {},
   "outputs": [],
   "source": [
    "# when Diabetes_012 =0: No Diabetes\n",
    "#                   =1: Prediabetes\n",
    "#                   =2: Diabetes\n",
    "data[\"Diabetes_012\"].value_counts(normalize=True).plot(kind=\"pie\")"
   ]
  },
  {
   "cell_type": "code",
   "execution_count": null,
   "id": "eb87c98e-10d6-48b1-b692-1d8bc0543fcc",
   "metadata": {},
   "outputs": [],
   "source": [
    "# when HighBP =0: Not High Blood Pressure \n",
    "#             =1: High Blood Pressure\n",
    "\n",
    "\n",
    "data[\"HighBP\"].value_counts(normalize=True).plot(kind=\"bar\")"
   ]
  },
  {
   "cell_type": "code",
   "execution_count": null,
   "id": "30a24b4d-d03d-427a-8c74-80d10e252fd3",
   "metadata": {},
   "outputs": [],
   "source": [
    "data[\"BMI\"].value_counts(normalize= True).plot(kind=\"bar\")"
   ]
  },
  {
   "cell_type": "code",
   "execution_count": null,
   "id": "4698e526-9368-422a-953c-23d8a816ebdd",
   "metadata": {},
   "outputs": [],
   "source": [
    "import matplotlib.pyplot as plt\n",
    "import numpy as up\n",
    "import seaborn as sns"
   ]
  },
  {
   "cell_type": "code",
   "execution_count": null,
   "id": "99dafa07-749e-44f4-ab46-6715576fbebe",
   "metadata": {},
   "outputs": [],
   "source": []
  },
  {
   "cell_type": "code",
   "execution_count": null,
   "id": "0dbe1039-6365-41bf-9208-54742269830c",
   "metadata": {},
   "outputs": [],
   "source": []
  }
 ],
 "metadata": {
  "kernelspec": {
   "display_name": "Python 3 (ipykernel)",
   "language": "python",
   "name": "python3"
  },
  "language_info": {
   "codemirror_mode": {
    "name": "ipython",
    "version": 3
   },
   "file_extension": ".py",
   "mimetype": "text/x-python",
   "name": "python",
   "nbconvert_exporter": "python",
   "pygments_lexer": "ipython3",
   "version": "3.11.5"
  }
 },
 "nbformat": 4,
 "nbformat_minor": 5
}
